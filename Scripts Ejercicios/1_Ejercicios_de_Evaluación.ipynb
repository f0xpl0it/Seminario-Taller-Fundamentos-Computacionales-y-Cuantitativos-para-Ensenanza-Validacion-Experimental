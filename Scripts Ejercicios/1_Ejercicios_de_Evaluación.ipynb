{
  "nbformat": 4,
  "nbformat_minor": 0,
  "metadata": {
    "colab": {
      "provenance": []
    },
    "kernelspec": {
      "name": "python3",
      "display_name": "Python 3"
    },
    "language_info": {
      "name": "python"
    }
  },
  "cells": [
    {
      "cell_type": "markdown",
      "source": [
        "# **💰 1. Cálculo de Precio Final con IVA, Descuentos y Cuotas**"
      ],
      "metadata": {
        "id": "TDvHIjONMveb"
      }
    },
    {
      "cell_type": "markdown",
      "source": [
        "🎯 **Objetivo:** Practicar operaciones matemáticas, condicionales y manejo de entrada de datos.\n",
        "\n",
        "📌 **Instrucción:**\n",
        "Escribe un programa que calcule el precio final de un producto, teniendo en cuenta:\n",
        "\n",
        "* Un descuento del 15% si el precio es mayor a 100, o del 10% si el precio es menor o igual a 100.\n",
        "* Se debe agregar el IVA del 21%.\n",
        "* El precio final se puede dividir en hasta 6 cuotas iguales, si el cliente elige pagar en cuotas.\n",
        "\n",
        "🧮 **Pasos:**\n",
        "\n",
        "1. Solicitar al usuario el precio original.\n",
        "2. Aplicar el descuento adecuado según el precio.\n",
        "3. Calcular el IVA sobre el precio con descuento.\n",
        "4. Preguntar al usuario si desea pagar en cuotas. Si es así, calcular el monto por cuota.\n",
        "5. Imprimir el precio final con IVA y el monto de cada cuota (si aplica).\n",
        "\n",
        "**Ejemplo de salida:**"
      ],
      "metadata": {
        "id": "KswNgYdzMy46"
      }
    },
    {
      "cell_type": "markdown",
      "source": [
        "\n",
        "```\n",
        "Ingrese el precio del producto: 150\n",
        "Descuento aplicado: 15%\n",
        "Precio con descuento: 127.5\n",
        "IVA (21%): 26.775\n",
        "Precio final con IVA: 154.275\n",
        "¿Desea pagar en cuotas? (sí/no): sí\n",
        "Cantidad de cuotas (máximo 6): 3\n",
        "Monto por cuota: 51.42\n",
        "\n",
        "```"
      ],
      "metadata": {
        "id": "-Uk5wg5pMzwc"
      }
    },
    {
      "cell_type": "markdown",
      "source": [
        "\n",
        "\n",
        "---\n",
        "\n"
      ],
      "metadata": {
        "id": "koI0c9hmO-_g"
      }
    },
    {
      "cell_type": "markdown",
      "source": [
        "# **🔢 2 Tabla de Multiplicar Avanzada con `Bucle for` y Condicionales**"
      ],
      "metadata": {
        "id": "lyChqRe4M0Jo"
      }
    },
    {
      "cell_type": "markdown",
      "source": [
        "🎯 **Objetivo:** Practicar el uso de bucles `for` y condicionales `if`.\n",
        "\n",
        "📌 **Instrucción:**\n",
        "Escribe un programa que imprima las tablas de multiplicar de todos los números entre 1 y 10, pero solo para aquellos números que sean impares. Usa un bucle `for` para iterar entre los números y un condicional `if` para verificar si el número es impar.\n",
        "\n",
        "🧮 **Pasos:**\n",
        "\n",
        "1. Crear un bucle para los números del 1 al 10.\n",
        "2. Si el número es impar, imprimir su tabla de multiplicar.\n",
        "3. Si el número es par, imprimir un mensaje indicando que no se generará su tabla.\n",
        "\n",
        "**Ejemplo de salida:**"
      ],
      "metadata": {
        "id": "3Wg3k2XBM6ee"
      }
    },
    {
      "cell_type": "markdown",
      "source": [
        "\n",
        "\n",
        "```\n",
        "Tabla de multiplicar de 1:\n",
        "1 x 1 = 1\n",
        "1 x 2 = 2\n",
        "...\n",
        "Tabla de multiplicar de 3:\n",
        "3 x 1 = 3\n",
        "3 x 2 = 6\n",
        "...\n",
        "El número 2 es par, no se generará la tabla.\n",
        "```\n",
        "\n"
      ],
      "metadata": {
        "id": "G0JPv-cnM6ud"
      }
    },
    {
      "cell_type": "markdown",
      "source": [
        "# **🔐 3. Validación de Contraseña con Reglas Avanzadas `(Bucle while)`**"
      ],
      "metadata": {
        "id": "JZaoDrWuM9eK"
      }
    },
    {
      "cell_type": "markdown",
      "source": [
        "🎯 **Objetivo:** Practicar el uso de bucles `while` y validaciones de entrada.\n",
        "\n",
        "📌 **Instrucción:**\n",
        "Escribe un programa que pida al usuario crear una contraseña con las siguientes reglas:\n",
        "\n",
        "* La contraseña debe tener al menos 8 caracteres.\n",
        "* Debe contener al menos una letra mayúscula, una minúscula y un número.\n",
        "* Debe contener al menos uno de los siguientes caracteres especiales: `@`, `#`, `$`, `%`.\n",
        "\n",
        "El programa debe continuar pidiendo la contraseña hasta que todas las condiciones se cumplan.\n",
        "\n",
        "🧮 **Pasos:**\n",
        "\n",
        "1. Solicitar al usuario que ingrese una contraseña.\n",
        "2. Validar que cumpla con todas las reglas mencionadas.\n",
        "3. Si la contraseña no cumple alguna regla, informar al usuario qué es lo que falta y pedirle que ingrese otra contraseña.\n",
        "\n",
        "**Ejemplo de salida:**"
      ],
      "metadata": {
        "id": "gjYOFQVJNcn3"
      }
    },
    {
      "cell_type": "markdown",
      "source": [
        "\n",
        "\n",
        "```\n",
        "Ingrese su contraseña: 12345\n",
        "La contraseña debe tener al menos 8 caracteres.\n",
        "Ingrese su contraseña: password\n",
        "La contraseña debe contener al menos una letra mayúscula, una minúscula, un número y un carácter especial.\n",
        "Ingrese su contraseña: Secreta@123\n",
        "Contraseña válida.\n",
        "```\n",
        "\n"
      ],
      "metadata": {
        "id": "a53yUQ0lNcxz"
      }
    },
    {
      "cell_type": "markdown",
      "source": [
        "# **⚡ 4. Cálculos con Números Complejos**"
      ],
      "metadata": {
        "id": "N6emSIPDNdVj"
      }
    },
    {
      "cell_type": "markdown",
      "source": [
        "🎯 **Objetivo:** Practicar operaciones con números complejos.\n",
        "\n",
        "📌 **Instrucción:**\n",
        "Escribe un programa que pida al usuario dos números complejos en forma de \"a + bi\" (por ejemplo, 3+4j) y realice las siguientes operaciones:\n",
        "\n",
        "* Sumar los dos números complejos.\n",
        "* Restar el primer número complejo con el segundo.\n",
        "* Multiplicar los dos números complejos.\n",
        "* Dividir el primer número complejo por el segundo.\n",
        "\n",
        "🧮 **Pasos:**\n",
        "\n",
        "1. Ingresar los dos números complejos.\n",
        "2. Realizar las operaciones de suma, resta, multiplicación y división.\n",
        "3. Imprimir los resultados de todas las operaciones.\n",
        "\n",
        "**Ejemplo de salida:**"
      ],
      "metadata": {
        "id": "hq94w1VuNuA5"
      }
    },
    {
      "cell_type": "markdown",
      "source": [
        "\n",
        "\n",
        "```\n",
        "Ingrese el primer número complejo (a+bj): 3+4j\n",
        "Ingrese el segundo número complejo (a+bj): 1+2j\n",
        "Suma: (4+6j)\n",
        "Resta: (2+2j)\n",
        "Multiplicación: (-5+10j)\n",
        "División: (2.2-0.4j)\n",
        "```\n",
        "\n"
      ],
      "metadata": {
        "id": "d-AYLO6uNuOe"
      }
    },
    {
      "cell_type": "markdown",
      "source": [
        "# **🔢 5.Función para Calcular Factorial y Números Primos**"
      ],
      "metadata": {
        "id": "MObzdeUANucF"
      }
    },
    {
      "cell_type": "markdown",
      "source": [
        "🎯 **Objetivo:** Practicar la creación de funciones y el manejo de condiciones.\n",
        "\n",
        "📌 **Instrucción:**\n",
        "Escribe una función llamada `calcular_factorial(n)` que calcule el factorial de un número `n`. Luego, escribe otra función llamada `es_primo(n)` que verifique si un número es primo o no.\n",
        "\n",
        "1. La función `calcular_factorial(n)` debe devolver el factorial de `n`.\n",
        "2. La función `es_primo(n)` debe devolver `True` si el número es primo y `False` en caso contrario.\n",
        "\n",
        "Luego, escribe un programa principal que pida un número al usuario, imprima su factorial y verifique si es primo.\n",
        "\n",
        "🧮 **Pasos:**\n",
        "\n",
        "1. Crear la función para calcular el factorial.\n",
        "2. Crear la función para verificar si un número es primo.\n",
        "3. Solicitar al usuario un número.\n",
        "4. Imprimir el factorial y verificar si es primo.\n",
        "\n",
        "**Ejemplo de salida:**"
      ],
      "metadata": {
        "id": "Nkx4ZbcQN1D2"
      }
    },
    {
      "cell_type": "markdown",
      "source": [
        "\n",
        "\n",
        "```\n",
        "Ingrese un número: 7\n",
        "El factorial de 7 es: 5040\n",
        "¿El número 7 es primo? True\n",
        "```\n",
        "\n"
      ],
      "metadata": {
        "id": "b0trdocfN1OK"
      }
    },
    {
      "cell_type": "markdown",
      "source": [
        "# **📚 6. Operaciones con Listas de Estudiantes y Calificaciones**"
      ],
      "metadata": {
        "id": "eT0ECE20N1fB"
      }
    },
    {
      "cell_type": "markdown",
      "source": [
        "🎯 **Objetivo:** Practicar el uso de listas, funciones de agregación y condicionales.\n",
        "\n",
        "📌 **Instrucción:**\n",
        "Escribe un programa que simule el manejo de las calificaciones de una clase. La clase tiene 10 estudiantes, y sus calificaciones están en una lista. Debes realizar lo siguiente:\n",
        "\n",
        "* Imprimir la lista de estudiantes y sus calificaciones.\n",
        "* Calcular el promedio de las calificaciones.\n",
        "* Imprimir el nombre de los estudiantes con calificaciones por encima del promedio.\n",
        "* Imprimir el nombre del estudiante con la calificación más baja.\n",
        "\n",
        "🧮 **Pasos:**\n",
        "\n",
        "1. Crear una lista de estudiantes con sus calificaciones.\n",
        "2. Calcular el promedio de las calificaciones.\n",
        "3. Imprimir los estudiantes que tienen calificaciones por encima del promedio.\n",
        "4. Encontrar el estudiante con la calificación más baja.\n",
        "\n",
        "**Ejemplo de salida:**"
      ],
      "metadata": {
        "id": "9IqqaEhdN5Y2"
      }
    },
    {
      "cell_type": "markdown",
      "source": [
        "\n",
        "\n",
        "```\n",
        "Estudiantes y Calificaciones:\n",
        "Ana - 8.5\n",
        "Luis - 7.0\n",
        "Carlos - 6.5\n",
        "Marta - 9.2\n",
        "Promedio de la clase: 7.8\n",
        "Estudiantes con calificación por encima del promedio:\n",
        "Ana\n",
        "Marta\n",
        "El estudiante con la calificación más baja es Carlos.\n",
        "```\n",
        "\n"
      ],
      "metadata": {
        "id": "4b68dl0vN5mw"
      }
    },
    {
      "cell_type": "markdown",
      "source": [
        "# **🔢 7. Creación y Manipulación de Arreglos con NumPy**"
      ],
      "metadata": {
        "id": "esLmzVLEN5yV"
      }
    },
    {
      "cell_type": "markdown",
      "source": [
        "🎯 **Objetivo:** Practicar la manipulación de arreglos y cálculos con NumPy.\n",
        "\n",
        "📌 **Instrucción:**\n",
        "Escribe un programa que utilice NumPy para realizar lo siguiente:\n",
        "\n",
        "1. Crear un arreglo `A` de 10 números aleatorios entre 1 y 100.\n",
        "2. Crear un arreglo `B` de 10 números aleatorios entre 1 y 100.\n",
        "3. Sumar los dos arreglos `A` y `B` para obtener un nuevo arreglo `C`.\n",
        "4. Calcular el promedio de los valores en el arreglo `C`.\n",
        "\n",
        "🧮 **Pasos:**\n",
        "\n",
        "1. Crear dos arreglos con números aleatorios.\n",
        "2. Sumar los dos arreglos.\n",
        "3. Calcular el promedio del arreglo resultante.\n",
        "\n",
        "**Ejemplo de salida:**"
      ],
      "metadata": {
        "id": "McM7h39cN8z5"
      }
    },
    {
      "cell_type": "markdown",
      "source": [
        "\n",
        "\n",
        "```\n",
        "Arreglo A: [15, 20, 45, 33, 80, 75, 90, 60, 25, 10]\n",
        "Arreglo B: [12, 40, 23, 50, 40, 10, 70, 35, 100, 25]\n",
        "Arreglo C (A + B): [27, 60, 68, 83, 120, 85, 160, 95, 125, 35]\n",
        "Promedio de C: 88.8\n",
        "```\n",
        "\n"
      ],
      "metadata": {
        "id": "voK0eMXiN89q"
      }
    },
    {
      "cell_type": "markdown",
      "source": [
        "# **📉 8. Cálculo de Regresión Lineal con Scikit-learn**"
      ],
      "metadata": {
        "id": "BMZj09QzN9JL"
      }
    },
    {
      "cell_type": "markdown",
      "source": [
        "🎯 **Objetivo:** Practicar el uso de Scikit-learn para crear un modelo de regresión lineal.\n",
        "\n",
        "📌 **Instrucción:**\n",
        "Escribe un programa que use `Scikit-learn` para ajustar un modelo de regresión lineal a un conjunto de datos que contenga las variables `X` (horas de estudio) y `y` (calificación obtenida).\n",
        "\n",
        "1. Crear los datos `X` y `y` (pueden ser datos ficticios).\n",
        "2. Usar la regresión lineal de `Scikit-learn` para ajustar el modelo.\n",
        "3. Imprimir la pendiente y la intersección de la línea de regresión.\n",
        "4. Predecir el valor de `y` para un valor dado de `X`.\n",
        "\n",
        "🧮 **Pasos:**\n",
        "\n",
        "1. Crear los datos.\n",
        "2. Ajustar el modelo de regresión lineal.\n",
        "3. Imprimir los parámetros del modelo.\n",
        "4. Hacer una predicción.\n",
        "\n",
        "**Ejemplo de salida:**\n"
      ],
      "metadata": {
        "id": "sUqlMQvFOAkO"
      }
    },
    {
      "cell_type": "markdown",
      "source": [
        "\n",
        "\n",
        "```\n",
        "Pendiente: [5.0]\n",
        "Intersección: 50.0\n",
        "Predicción para X=6\n",
        "```\n",
        "\n"
      ],
      "metadata": {
        "id": "iTXdH4JSOAxL"
      }
    },
    {
      "cell_type": "markdown",
      "source": [
        "# **📊 9. Análisis de Datos con Pandas (Filtrado y Agrupación)**"
      ],
      "metadata": {
        "id": "kDqdgyPpOA-1"
      }
    },
    {
      "cell_type": "markdown",
      "source": [
        "🎯 **Objetivo:** Practicar el manejo de datos con Pandas y la visualización con Matplotlib.\n",
        "\n",
        "📌 **Instrucción:**\n",
        "Escribe un programa que haga lo siguiente:\n",
        "\n",
        "1. Crear un DataFrame con Pandas que contenga las calificaciones de 5 estudiantes en 3 materias: Matemáticas, Historia y Ciencias.\n",
        "2. Calcular el promedio de cada estudiante.\n",
        "3. Visualizar las calificaciones de todos los estudiantes en un gráfico de barras usando Matplotlib.\n",
        "4. Mostrar en el gráfico el promedio de cada estudiante como una línea horizontal.\n",
        "\n",
        "🧮 **Pasos:**\n",
        "\n",
        "1. Crear un DataFrame con las calificaciones de los estudiantes.\n",
        "2. Calcular el promedio por estudiante.\n",
        "3. Crear un gráfico de barras para las calificaciones.\n",
        "4. Añadir una línea de promedio en el gráfico.\n",
        "\n",
        "**Ejemplo de salida:**"
      ],
      "metadata": {
        "id": "ubbw1pAWOIrg"
      }
    },
    {
      "cell_type": "markdown",
      "source": [
        "\n",
        "\n",
        "```\n",
        "Estudiantes | Matemáticas | Historia | Ciencias | Promedio\n",
        "Juan | 85 | 90 | 75 | 83.33\n",
        "Pedro | 80 | 85 | 88 | 84.33\n",
        "Marta | 95 | 92 | 89 | 92.00\n",
        "```\n",
        "\n"
      ],
      "metadata": {
        "id": "Z5OJkdCtOI0-"
      }
    },
    {
      "cell_type": "markdown",
      "source": [
        "# **📈 10. Visualización de Datos con Seaborn**"
      ],
      "metadata": {
        "id": "vnv9BAVeOJFY"
      }
    },
    {
      "cell_type": "markdown",
      "source": [
        "🎯 **Objetivo:** Practicar la creación y evaluación de un modelo de regresión con `Scikit-learn`.\n",
        "\n",
        "📌 **Instrucción:**\n",
        "Escribe un programa que haga lo siguiente:\n",
        "\n",
        "1. Crear un conjunto de datos ficticios con horas de estudio (`X`) y calificaciones obtenidas (`y`).\n",
        "2. Ajustar un modelo de regresión lineal utilizando `Scikit-learn`.\n",
        "3. Imprimir la pendiente, la intersección y la precisión del modelo.\n",
        "4. Predecir la calificación de un estudiante que estudió 5 horas.\n",
        "\n",
        "🧮 **Pasos:**\n",
        "\n",
        "1. Crear los datos de `X` (horas de estudio) y `y` (calificaciones).\n",
        "2. Crear el modelo de regresión con `Scikit-learn`.\n",
        "3. Imprimir los parámetros del modelo (pendiente e intersección).\n",
        "4. Realizar una predicción para 5 horas de estudio.\n",
        "\n",
        "**Ejemplo de salida:**\n"
      ],
      "metadata": {
        "id": "SWdDbuhOOLf2"
      }
    },
    {
      "cell_type": "markdown",
      "source": [
        "\n",
        "```\n",
        "Pendiente: 5.2\n",
        "Intersección: 50.3\n",
        "Precisión del modelo: 0.95\n",
        "Predicción para 5 horas de estudio: 75.4\n",
        "```\n",
        "\n"
      ],
      "metadata": {
        "id": "ls4JJniJOLsp"
      }
    }
  ]
}