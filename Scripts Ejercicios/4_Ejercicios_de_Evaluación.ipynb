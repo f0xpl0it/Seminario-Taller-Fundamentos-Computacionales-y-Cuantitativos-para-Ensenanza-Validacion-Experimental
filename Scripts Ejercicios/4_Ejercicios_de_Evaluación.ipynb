{
  "metadata": {
    "kernelspec": {
      "name": "python",
      "display_name": "Python (Pyodide)",
      "language": "python"
    },
    "language_info": {
      "name": "python"
    },
    "colab": {
      "provenance": []
    }
  },
  "nbformat_minor": 4,
  "nbformat": 4,
  "cells": [
    {
      "cell_type": "markdown",
      "source": "<h1 style=\"text-align: center;\"><strong>EJERCICIOS CON PYTHON APLICADOS A QUÍMICA Y BIOQUÍMICA</strong></h1>\n",
      "metadata": {}
    },
    {
      "cell_type": "markdown",
      "source": "<div class=\"alert alert-block alert-info\">\n  <h2>Instrucción General para los Datasets Reales</h2>\n\n  <p>Los datasets presentados son reales o simulados con características similares a datos experimentales auténticos. Para el desarrollo de los ejercicios, se presentan las tablas con los datos en formato tabular. El estudiante debe seguir los siguientes pasos:</p>\n\n  <ol>\n    <li>Recrear estas tablas en formato CSV usando Excel, Google Sheets o cualquier editor de texto.</li>\n    <li>Guardar el archivo como CSV (valores separados por comas).</li>\n    <li>Subir el archivo CSV a su entorno de trabajo (por ejemplo, Google Colab).</li>\n    <li>Cargar el archivo CSV en el notebook para su análisis posterior.</li>\n  </ol>\n\n  <p><strong>⚠️ Excepción:</strong> En el ejercicio <strong>Evaluación 2: PCA en Propiedades de la Tabla Periódica</strong>, el archivo CSV puede ser <strong>descargado directamente</strong> para facilitar el análisis. El enlace de descarga se proporcionará junto al ejercicio.</p>\n<p><strong>⚠️ Nota:</strong> Ejemplo de código de para leer los archivos .cvs </p>\n</div>",
      "metadata": {}
    },
    {
      "cell_type": "markdown",
      "source": "```\nfrom google.colab import files\nimport pandas as pd\n\n# Paso 1: Subir el archivo CSV desde tu computadora\nuploaded = files.upload()\n\n# Paso 2: Leer el archivo CSV en un DataFrame de pandas\n# Reemplaza 'nombre_del_archivo.csv' con el nombre real de tu archivo subido\ndf = pd.read_csv('nombre_del_archivo.csv')\n\n# Mostrar las primeras filas para verificar la carga\nprint(df.head())\n```\n",
      "metadata": {}
    },
    {
      "cell_type": "markdown",
      "source": "# 1. PCA Enfocado a Bioquímica (Reducción Dimensional en Datasets Multivariados)",
      "metadata": {
        "id": "1_TgD1i-gskk"
      }
    },
    {
      "cell_type": "markdown",
      "source": "Estos evalúan la capacidad de reducir datos complejos y validar patrones bioquímicos (e.g., metabolitos correlacionados).",
      "metadata": {}
    },
    {
      "cell_type": "markdown",
      "source": "## Evaluación 1: PCA en Dataset de MicroRNAs en Sangre (Complejidad Alta - Análisis Genómico Bioquímico)",
      "metadata": {}
    },
    {
      "cell_type": "markdown",
      "source": "* **Descripción:** Los estudiantes cargan un dataset real de expresiones de microRNAs en sangre (de GEO/NCBI, e.g., GSE106817 de PLOS ONE paper ). Deben preprocesar (imputar missing values con KNN, normalizar log2), aplicar PCA con 4-5 componentes, visualizar biplot/3D, y analizar cargas para identificar clusters de pacientes (e.g., cáncer vs. control). Complejidad: Incluir prueba de Kaiser-Meyer-Olkin (KMO) para adecuación, rotación Varimax, y validación con clustering K-means. Interpretar epistemológicamente: ¿Cómo valida PCA diferencias bioquímicas en vías metabólicas?",
      "metadata": {}
    },
    {
      "cell_type": "markdown",
      "source": "* **Lectura de Dataset Real:** Usar `pd.read_csv('https://www.ncbi.nlm.nih.gov/geo/download/?acc=GSE106817&format=file&file=GSE106817%5FmiRNA%5Fexpression%5Fdata.txt')` o similar (buscar en GEO). Alternativa: Dataset de UCI para vinos como backup.",
      "metadata": {}
    },
    {
      "cell_type": "markdown",
      "source": "* **Objetivos:** Evaluar manejo de datos genómicos reales (alta dimensionalidad ~1000 variables), interpretación química (e.g., microRNAs como biomarcadores), y extensión a ML (e.g., PCA + SVM para clasificación).",
      "metadata": {}
    },
    {
      "cell_type": "markdown",
      "source": "* [DESCARGAR DATASET](https://ftp.ncbi.nlm.nih.gov/geo/series/GSE106nnn/GSE106817/matrix/GSE106817_series_matrix.txt.gz)",
      "metadata": {}
    },
    {
      "cell_type": "markdown",
      "source": "| Muestra\\_ID | Estado  | miR-1 | miR-2 | miR-3 | miR-4 | miR-5 | miR-6 | miR-7 | miR-8 | miR-9 | miR-10 | miR-11 | miR-12 | miR-13 | miR-14 | miR-15 |\n| ----------- | ------- | ----- | ----- | ----- | ----- | ----- | ----- | ----- | ----- | ----- | ------ | ------ | ------ | ------ | ------ | ------ |\n| S01         | Cáncer  | 13.2  | 14.5  | 12.1  | 9.4   | NA    | 10.0  | 11.8  | 12.6  | 13.0  | 11.9   | 12.4   | 10.7   | 14.1   | NA     | 9.9    |\n| S02         | Cáncer  | 14.1  | 13.8  | 11.9  | 10.2  | 9.7   | 10.3  | 12.3  | NA    | 13.1  | 12.1   | 12.7   | 11.2   | 14.3   | 12.5   | 10.1   |\n| S03         | Cáncer  | 13.5  | 14.2  | 12.3  | 10.0  | 9.8   | 10.5  | 12.0  | 12.9  | NA    | 11.7   | 12.2   | 10.9   | 13.9   | 12.1   | 9.8    |\n| S04         | Cáncer  | 12.9  | 13.6  | 11.5  | 9.8   | 9.5   | 10.1  | 11.5  | 12.3  | 12.8  | 11.5   | 12.0   | NA     | 14.0   | 12.3   | 9.6    |\n| S05         | Cáncer  | 13.8  | 14.0  | 12.2  | NA    | 9.6   | 10.2  | 11.9  | 12.8  | 13.2  | 12.0   | 12.6   | 11.0   | 14.4   | 12.4   | 10.0   |\n| S06         | Cáncer  | NA    | 14.3  | 12.0  | 10.1  | 9.9   | 10.4  | 12.1  | 12.7  | 13.3  | 12.2   | 12.5   | 11.3   | 14.2   | 12.2   | 10.3   |\n| S07         | Control | 6.1   | 5.4   | 5.9   | 4.2   | 3.9   | 4.7   | 5.5   | 5.8   | 6.0   | 5.2    | 5.9    | 4.9    | 6.1    | NA     | 4.1    |\n| S08         | Control | 5.9   | 5.6   | 6.0   | 4.3   | 4.1   | 4.6   | NA    | 5.7   | 6.2   | 5.3    | 6.0    | 5.1    | 6.3    | 5.5    | 4.3    |\n| S09         | Control | 6.0   | 5.5   | 6.1   | 4.4   | 4.0   | 4.8   | 5.6   | 5.9   | 6.1   | 5.4    | NA     | 5.0    | 6.2    | 5.4    | 4.0    |\n| S10         | Control | 6.2   | 5.7   | 5.8   | 4.1   | NA    | 4.9   | 5.7   | 6.0   | 6.3   | 5.1    | 6.1    | 5.2    | 6.4    | 5.6    | 4.2    |\n| S11         | Control | 6.3   | 5.8   | 6.2   | 4.5   | 4.2   | 5.0   | 5.8   | 6.1   | 6.4   | 5.5    | 6.2    | 5.3    | 6.5    | 5.7    | NA     |\n| S12         | Control | 6.4   | 5.9   | 6.3   | 4.6   | 4.3   | 5.1   | 5.9   | 6.2   | 6.5   | 5.6    | 6.3    | 5.4    | 6.6    | 5.8    | 4.4    |\n",
      "metadata": {}
    },
    {
      "cell_type": "markdown",
      "source": "## Evaluación 2: PCA en Propiedades de la Tabla Periódica (Complejidad Media-Alta - Química Inorgánica)",
      "metadata": {}
    },
    {
      "cell_type": "markdown",
      "source": "* **Descripción:** Usar dataset real de propiedades periódicas (de ACS Journal  o PubChem). Preprocesar (estandarizar propiedades como radio atómico, electronegatividad), aplicar PCA para agrupar elementos por bloques (s/p/d/f), visualizar con loadings para identificar correlaciones (e.g., radio vs. masa). Complejidad: Agregar análisis de outliers (e.g., elementos radiactivos), PCA robusta (para datos no gaussianos), y comparación con MDS (dimensión no lineal).",
      "metadata": {}
    },
    {
      "cell_type": "markdown",
      "source": "* **Lectura de Dataset Real:** `pd.read_csv('https://pubs.acs.org/doi/suppl/10.1021/acs.jchemed.4c01270/suppl_file/ed4c01270_si_001.csv')` o de GitHub repos como awesome-chemistry-datasets .",
      "metadata": {}
    },
    {
      "cell_type": "markdown",
      "source": "* **Objetivos:** Enfocar en química cuántica (validar tendencias periódicas experimentalmente), y epistemología (¿PCA falsifica hipótesis de periodicidad?).",
      "metadata": {}
    },
    {
      "cell_type": "markdown",
      "source": "* [DESCARGAR DATASET](https://gist.githubusercontent.com/GoodmanSciences/c2dd862cd38f21b0ad36b8f96b4bf1ee/raw/Periodic%20Table%20of%20Elements.csv)",
      "metadata": {}
    },
    {
      "cell_type": "markdown",
      "source": "# 2. ANOVA y Tukey Enfocado a Bioquímica (Comparación de Grupos Experimentales)",
      "metadata": {}
    },
    {
      "cell_type": "markdown",
      "source": "Evalúan validación de diferencias bioquímicas entre tratamientos, con post-hoc para múltiples comparaciones.",
      "metadata": {}
    },
    {
      "cell_type": "markdown",
      "source": "## Evaluación 1: ANOVA/Tukey en Dataset de Efectos de Drogas en Memoria (Complejidad Alta - Neurobioquímica)",
      "metadata": {}
    },
    {
      "cell_type": "markdown",
      "source": "* **Descripción:** Dataset real de Kaggle  sobre benzodiazepinas y recall de memorias (happy/sad). Preprocesar (agrupar por droga/dosis, check normalidad con Shapiro-Wilk, transformar si no normal), aplicar ANOVA multifactorial (droga x emoción), Tukey post-hoc, y plots de interacción. Complejidad: Incluir Levene para homocedasticidad, Bonferroni correction si múltiples ANOVAs, y power analysis (para detectar efectos pequeños en datos bioquímicos ruidosos). Interpretar: ¿Cómo valida diferencias en vías neuroquímicas (e.g., GABA receptors)?",
      "metadata": {}
    },
    {
      "cell_type": "markdown",
      "source": "* **Lectura de Dataset Real:** `pd.read_csv('https://www.kaggle.com/datasets/steveahn/drug-memory-anova-tukey-hsd-experiment/data.csv')` (descargar y subir a Colab, o usar API Kaggle).",
      "metadata": {}
    },
    {
      "cell_type": "markdown",
      "source": "* **Objetivos:** Manejo de datos experimentales reales en bioquímica comportamental, interpretación ética (implicaciones en farmacología).",
      "metadata": {}
    },
    {
      "cell_type": "markdown",
      "source": "* **DATASET**",
      "metadata": {}
    },
    {
      "cell_type": "markdown",
      "source": "| Droga      | Dosis\\_mg | Emoción | Replicado | Recall\\_Score |\n| ---------- | --------- | ------- | --------- | ------------- |\n| Placebo    | 0         | Happy   | 1         | 72            |\n| Placebo    | 0         | Happy   | 2         | 69            |\n| Placebo    | 0         | Happy   | 3         | 74            |\n| Placebo    | 0         | Sad     | 1         | 65            |\n| Placebo    | 0         | Sad     | 2         | 67            |\n| Placebo    | 0         | Sad     | 3         | 64            |\n| Diazepam   | 5         | Happy   | 1         | 80            |\n| Diazepam   | 5         | Happy   | 2         | 82            |\n| Diazepam   | 5         | Happy   | 3         | 79            |\n| Diazepam   | 5         | Sad     | 1         | 70            |\n| Diazepam   | 5         | Sad     | 2         | 72            |\n| Diazepam   | 5         | Sad     | 3         | 68            |\n| Diazepam   | 10        | Happy   | 1         | 85            |\n| Diazepam   | 10        | Happy   | 2         | 88            |\n| Diazepam   | 10        | Happy   | 3         | 86            |\n| Diazepam   | 10        | Sad     | 1         | 73            |\n| Diazepam   | 10        | Sad     | 2         | 75            |\n| Diazepam   | 10        | Sad     | 3         | 72            |\n| Alprazolam | 5         | Happy   | 1         | 78            |\n| Alprazolam | 5         | Happy   | 2         | 76            |\n| Alprazolam | 5         | Happy   | 3         | 79            |\n| Alprazolam | 5         | Sad     | 1         | 66            |\n| Alprazolam | 5         | Sad     | 2         | 65            |\n| Alprazolam | 5         | Sad     | 3         | 67            |\n| Alprazolam | 10        | Happy   | 1         | 84            |\n| Alprazolam | 10        | Happy   | 2         | 85            |\n| Alprazolam | 10        | Happy   | 3         | 83            |\n| Alprazolam | 10        | Sad     | 1         | 70            |\n| Alprazolam | 10        | Sad     | 2         | 69            |\n| Alprazolam | 10        | Sad     | 3         | 71            |\n",
      "metadata": {}
    },
    {
      "cell_type": "markdown",
      "source": "## Evaluación 2: ANOVA/Tukey en Dataset de Cicatrización de Heridas (Complejidad Media-Alta - Bioquímica Tisular)",
      "metadata": {}
    },
    {
      "cell_type": "markdown",
      "source": "* **Descripción:** Dataset de ResearchGate  sobre extractos de hojas y tiempo de cicatrización. Preprocesar (replicaciones, outliers vía IQR), ANOVA two-way (extracto x tiempo), Tukey para pares. Complejidad: Agregar mixed-effects ANOVA (si datos longitudinales), visualización de heatmaps de p-valores, y simulación Monte Carlo para robustez.",
      "metadata": {}
    },
    {
      "cell_type": "markdown",
      "source": "* **Lectura de Dataset Real:** Extraer tabla de PDF vía `tabula-py` o manualmente de ResearchGate URL, o usar similar de PMC  para intervals bioquímicos.",
      "metadata": {}
    },
    {
      "cell_type": "markdown",
      "source": "* **Lectura de Dataset Real:** Extraer tabla de PDF vía tabula-py o manualmente de ResearchGate URL, o usar similar de PMC  para intervals bioquímicos.",
      "metadata": {}
    },
    {
      "cell_type": "markdown",
      "source": "* **DATASET**",
      "metadata": {}
    },
    {
      "cell_type": "markdown",
      "source": "| Extracto    | Tiempo\\_días | Replicado | Area\\_cicatrizada\\_mm2 |\n| ----------- | ------------ | --------- | ---------------------- |\n| Control     | 1            | 1         | 2.5                    |\n| Control     | 1            | 2         | 2.7                    |\n| Control     | 1            | 3         | 2.4                    |\n| Control     | 3            | 1         | 6.2                    |\n| Control     | 3            | 2         | 6.5                    |\n| Control     | 3            | 3         | 6.0                    |\n| Control     | 7            | 1         | 12.1                   |\n| Control     | 7            | 2         | 11.8                   |\n| Control     | 7            | 3         | 12.0                   |\n| Extracto\\_A | 1            | 1         | 3.1                    |\n| Extracto\\_A | 1            | 2         | 3.4                    |\n| Extracto\\_A | 1            | 3         | 3.3                    |\n| Extracto\\_A | 3            | 1         | 7.9                    |\n| Extracto\\_A | 3            | 2         | 8.1                    |\n| Extracto\\_A | 3            | 3         | 7.7                    |\n| Extracto\\_A | 7            | 1         | 15.0                   |\n| Extracto\\_A | 7            | 2         | 15.4                   |\n| Extracto\\_A | 7            | 3         | 15.2                   |\n| Extracto\\_B | 1            | 1         | 3.5                    |\n| Extracto\\_B | 1            | 2         | 3.6                    |\n| Extracto\\_B | 1            | 3         | 3.8                    |\n| Extracto\\_B | 3            | 1         | 8.5                    |\n| Extracto\\_B | 3            | 2         | 8.7                    |\n| Extracto\\_B | 3            | 3         | 8.3                    |\n| Extracto\\_B | 7            | 1         | 16.5                   |\n| Extracto\\_B | 7            | 2         | 16.7                   |\n| Extracto\\_B | 7            | 3         | 16.9                   |\n",
      "metadata": {}
    },
    {
      "cell_type": "markdown",
      "source": "# 3. Fisicoquímica/Cinética Química (Ajustes No Lineales y Órdenes de Reacción)",
      "metadata": {}
    },
    {
      "cell_type": "markdown",
      "source": "Evalúan modelado de reacciones químicas reales, con énfasis en parámetros bioquímicos como Km/Vmax.",
      "metadata": {}
    },
    {
      "cell_type": "markdown",
      "source": "## Evaluación 1: Ajuste Michaelis-Menten en Dataset de Cinética Enzimática NIST (Complejidad Alta - Bioquímica Enzimática)",
      "metadata": {}
    },
    {
      "cell_type": "markdown",
      "source": "* **Descripción:** Usar dataset real de NIST Kinetics Database [web:30, web:31] para reacciones enzimáticas (e.g., hidrolasas). Preprocesar (filtrar por enzima, manejar unidades), ajustar no lineal con curve_fit, calcular Km/Vmax, plots Lineweaver-Burk/Eadie-Hofstee. Complejidad: Incluir inhibición competitiva (ajuste con parámetros extra), bootstrap para CI de parámetros, y comparación con datos termodinámicos (e.g., ΔG de ReSpecTh ).",
      "metadata": {}
    },
    {
      "cell_type": "markdown",
      "source": "* **Lectura de Dataset Real:** Usar API NIST `(pd.read_csv('https://kinetics.nist.gov/kinetics/SearchForm?database=gas&reactants=...'))` o descargar CSV.",
      "metadata": {}
    },
    {
      "cell_type": "markdown",
      "source": "* **Objetivos:** Interpretación fisicoquímica (afinidad enzimática), validación en ingeniería bioquímica (e.g., optimización de reactores enzimáticos).",
      "metadata": {}
    },
    {
      "cell_type": "markdown",
      "source": "* **DATASET**",
      "metadata": {}
    },
    {
      "cell_type": "markdown",
      "source": "| Sustrato\\_conc\\_mM | Velocidad\\_uM\\_per\\_min | Inhibidor\\_conc\\_mM |\n| ------------------ | ----------------------- | ------------------- |\n| 0.05               | 0.09                    | 0.0                 |\n| 0.10               | 0.17                    | 0.0                 |\n| 0.20               | 0.30                    | 0.0                 |\n| 0.40               | 0.50                    | 0.0                 |\n| 0.80               | 0.70                    | 0.0                 |\n| 1.60               | 0.82                    | 0.0                 |\n| 3.20               | 0.90                    | 0.0                 |\n| 0.05               | 0.05                    | 0.1                 |\n| 0.10               | 0.10                    | 0.1                 |\n| 0.20               | 0.18                    | 0.1                 |\n| 0.40               | 0.28                    | 0.1                 |\n| 0.80               | 0.40                    | 0.1                 |\n| 1.60               | 0.50                    | 0.1                 |\n| 3.20               | 0.56                    | 0.1                 |\n| 0.05               | 0.03                    | 0.2                 |\n| 0.10               | 0.06                    | 0.2                 |\n| 0.20               | 0.10                    | 0.2                 |\n| 0.40               | 0.16                    | 0.2                 |\n| 0.80               | 0.24                    | 0.2                 |\n| 1.60               | 0.30                    | 0.2                 |\n| 3.20               | 0.33                    | 0.2                 |\n",
      "metadata": {}
    },
    {
      "cell_type": "markdown",
      "source": "## Evaluación 2: Análisis de Órdenes de Reacción en Dataset de Reacciones Orgánicas (Complejidad Media-Alta - Química Orgánica)",
      "metadata": {}
    },
    {
      "cell_type": "markdown",
      "source": "* **Descripción:** Dataset de ORDerly  o RMG  para reacciones gas-fase. Preprocesar (log-transform, filtrar por temperatura), ajustar órdenes (0/1/2) vía minimos cuadrados, determinar orden vía AIC. Complejidad: Modelado multi-paso (e.g., radicales), sensibilidad a condiciones iniciales, y simulación ODE con scipy.integrate.",
      "metadata": {}
    },
    {
      "cell_type": "markdown",
      "source": "* **Lectura de Dataset Real:** De GitHub ORDerly o RMG `(pd.read_csv('https://chemrxiv.org/engage/api-gateway/...'))`.",
      "metadata": {}
    },
    {
      "cell_type": "markdown",
      "source": "* **Objetivos:** Epistemología en cinética (falsar mecanismos), aplicaciones en química computacional.",
      "metadata": {}
    },
    {
      "cell_type": "markdown",
      "source": "* **DATASET**",
      "metadata": {}
    },
    {
      "cell_type": "markdown",
      "source": "| Temperatura\\_K | Tiempo\\_s | Concentracion\\_M | Presion\\_atm |\n| -------------- | --------- | ---------------- | ------------ |\n| 298            | 0         | 1.000            | 1.00         |\n| 298            | 10        | 0.820            | 1.00         |\n| 298            | 20        | 0.670            | 1.00         |\n| 298            | 30        | 0.550            | 1.00         |\n| 298            | 40        | 0.450            | 1.00         |\n| 298            | 50        | 0.370            | 1.00         |\n| 298            | 60        | 0.310            | 1.00         |\n| 298            | 70        | 0.260            | 1.00         |\n| 298            | 80        | 0.220            | 1.00         |\n| 298            | 90        | 0.190            | 1.00         |\n| 298            | 100       | 0.160            | 1.00         |\n| 350            | 0         | 1.000            | 1.20         |\n| 350            | 10        | 0.740            | 1.20         |\n| 350            | 20        | 0.550            | 1.20         |\n| 350            | 30        | 0.410            | 1.20         |\n| 350            | 40        | 0.310            | 1.20         |\n| 350            | 50        | 0.240            | 1.20         |\n| 350            | 60        | 0.190            | 1.20         |\n| 350            | 70        | 0.150            | 1.20         |\n| 350            | 80        | 0.120            | 1.20         |\n| 350            | 90        | 0.100            | 1.20         |\n| 350            | 100       | 0.080            | 1.20         |\n| 400            | 0         | 1.000            | 1.50         |\n| 400            | 10        | 0.660            | 1.50         |\n| 400            | 20        | 0.430            | 1.50         |\n| 400            | 30        | 0.280            | 1.50         |\n| 400            | 40        | 0.180            | 1.50         |\n| 400            | 50        | 0.120            | 1.50         |\n| 400            | 60        | 0.080            | 1.50         |\n| 400            | 70        | 0.060            | 1.50         |\n| 400            | 80        | 0.045            | 1.50         |\n| 400            | 90        | 0.030            | 1.50         |\n| 400            | 100       | 0.020            | 1.50         |\n",
      "metadata": {}
    },
    {
      "cell_type": "markdown",
      "source": "# 4. Matriz de Vandermonde en Cinética Química (Ajuste Polinomial en Datos No Lineales)",
      "metadata": {}
    },
    {
      "cell_type": "markdown",
      "source": "Evalúa aproximaciones numéricas en sistemas químicos complejos.",
      "metadata": {}
    },
    {
      "cell_type": "markdown",
      "source": "## Evaluación 1: Vandermonde en Dataset de NMR Espectroscopía (Complejidad Alta - Química Analítica)",
      "metadata": {}
    },
    {
      "cell_type": "markdown",
      "source": "* **Descripción:** Dataset de NMR para recuperación de señales exponenciales . Construir Vandermonde rectangular, resolver con pseudoinversa, calcular derivadas para tasas. Complejidad: Hankel matrix para datos complejos, comparación con FFT, y análisis de sloppy models  para parámetros insensibles.",
      "metadata": {}
    },
    {
      "cell_type": "markdown",
      "source": "* **Lectura de Dataset Real:** De ResearchGate o ChemRxiv NMR datasets (`pd.read_csv('https://www.researchgate.net/publication/...')`).",
      "metadata": {}
    },
    {
      "cell_type": "markdown",
      "source": "* **Objetivos:** Aplicaciones en química espectroscópica (e.g., estructura molecular), validación experimental (detectar no linealidades en decays).",
      "metadata": {}
    },
    {
      "cell_type": "markdown",
      "source": "* **DATASET**",
      "metadata": {}
    },
    {
      "cell_type": "markdown",
      "source": "| Tiempo\\_ms | Intensidad\\_comp1 | Intensidad\\_comp2 | Intensidad\\_total |\n| ---------- | ----------------- | ----------------- | ----------------- |\n| 0          | 1000              | 600               | 1600              |\n| 5          | 852               | 542               | 1394              |\n| 10         | 726               | 489               | 1215              |\n| 15         | 619               | 440               | 1059              |\n| 20         | 528               | 395               | 923               |\n| 25         | 450               | 354               | 804               |\n| 30         | 384               | 316               | 700               |\n| 35         | 327               | 280               | 607               |\n| 40         | 279               | 246               | 525               |\n| 45         | 238               | 214               | 452               |\n| 50         | 203               | 185               | 388               |\n| 55         | 173               | 157               | 330               |\n| 60         | 147               | 131               | 278               |\n| 65         | 125               | 107               | 232               |\n| 70         | 106               | 84                | 190               |\n| 75         | 89                | 62                | 151               |\n| 80         | 75                | 42                | 117               |\n| 85         | 63                | 23                | 86                |\n| 90         | 53                | 5                 | 58                |\n| 95         | 44                | 0                 | 44                |\n| 100        | 37                | 0                 | 37                |\n",
      "metadata": {}
    },
    {
      "cell_type": "markdown",
      "source": "## Evaluación 2: Vandermonde en Cinética de Reacciones Complejas (Complejidad Media-Alta - Fisicoquímica)",
      "metadata": {}
    },
    {
      "cell_type": "markdown",
      "source": "* **Descripción:** Usar dataset NIST para reacciones con polinomios (e.g., descomposiciones). Ajustar grado variable, analizar RMSE vs. grado, derivadas para tasas instantáneas. Complejidad: Integrar con PCA para reducción si multivariado, y Monte Carlo para incertidumbre.",
      "metadata": {}
    },
    {
      "cell_type": "markdown",
      "source": "* **Objetivos:** Interpretación en mecanismos autocatalíticos, epistemología (sobreajuste vs. modelo físico).",
      "metadata": {}
    },
    {
      "cell_type": "markdown",
      "source": "* **DATASET**",
      "metadata": {}
    },
    {
      "cell_type": "markdown",
      "source": "| Tiempo\\_s | Conc\\_reactivo |\n| --------- | -------------- |\n| 0         | 1.000          |\n| 10        | 0.873          |\n| 20        | 0.766          |\n| 30        | 0.675          |\n| 40        | 0.598          |\n| 50        | 0.533          |\n| 60        | 0.478          |\n| 70        | 0.432          |\n| 80        | 0.393          |\n| 90        | 0.360          |\n| 100       | 0.332          |\n| 110       | 0.308          |\n| 120       | 0.288          |\n| 130       | 0.271          |\n| 140       | 0.257          |\n| 150       | 0.244          |\n| 160       | 0.233          |\n| 170       | 0.224          |\n| 180       | 0.216          |\n| 190       | 0.209          |\n| 200       | 0.203          |\n",
      "metadata": {}
    }
  ]
}